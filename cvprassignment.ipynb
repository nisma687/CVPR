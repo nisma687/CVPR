{
  "nbformat": 4,
  "nbformat_minor": 0,
  "metadata": {
    "colab": {
      "provenance": [],
      "gpuType": "T4"
    },
    "kernelspec": {
      "name": "python3",
      "display_name": "Python 3"
    },
    "language_info": {
      "name": "python"
    },
    "accelerator": "GPU",
    "gpuClass": "standard"
  },
  "cells": [
    {
      "cell_type": "code",
      "execution_count": 1,
      "metadata": {
        "colab": {
          "base_uri": "https://localhost:8080/"
        },
        "id": "jwjEkFL5Yfrn",
        "outputId": "4ec767fd-2ed0-4af5-c358-0609789046cd"
      },
      "outputs": [
        {
          "output_type": "stream",
          "name": "stdout",
          "text": [
            "Looking in indexes: https://pypi.org/simple, https://us-python.pkg.dev/colab-wheels/public/simple/\n",
            "Collecting ultralytics\n",
            "  Downloading ultralytics-8.0.90-py3-none-any.whl (562 kB)\n",
            "\u001b[2K     \u001b[90m━━━━━━━━━━━━━━━━━━━━━━━━━━━━━━━━━━━━━━\u001b[0m \u001b[32m562.2/562.2 kB\u001b[0m \u001b[31m20.3 MB/s\u001b[0m eta \u001b[36m0:00:00\u001b[0m\n",
            "\u001b[?25hRequirement already satisfied: matplotlib>=3.2.2 in /usr/local/lib/python3.10/dist-packages (from ultralytics) (3.7.1)\n",
            "Requirement already satisfied: opencv-python>=4.6.0 in /usr/local/lib/python3.10/dist-packages (from ultralytics) (4.7.0.72)\n",
            "Requirement already satisfied: Pillow>=7.1.2 in /usr/local/lib/python3.10/dist-packages (from ultralytics) (8.4.0)\n",
            "Requirement already satisfied: PyYAML>=5.3.1 in /usr/local/lib/python3.10/dist-packages (from ultralytics) (6.0)\n",
            "Requirement already satisfied: requests>=2.23.0 in /usr/local/lib/python3.10/dist-packages (from ultralytics) (2.27.1)\n",
            "Requirement already satisfied: scipy>=1.4.1 in /usr/local/lib/python3.10/dist-packages (from ultralytics) (1.10.1)\n",
            "Requirement already satisfied: torch>=1.7.0 in /usr/local/lib/python3.10/dist-packages (from ultralytics) (2.0.0+cu118)\n",
            "Requirement already satisfied: torchvision>=0.8.1 in /usr/local/lib/python3.10/dist-packages (from ultralytics) (0.15.1+cu118)\n",
            "Requirement already satisfied: tqdm>=4.64.0 in /usr/local/lib/python3.10/dist-packages (from ultralytics) (4.65.0)\n",
            "Requirement already satisfied: pandas>=1.1.4 in /usr/local/lib/python3.10/dist-packages (from ultralytics) (1.5.3)\n",
            "Requirement already satisfied: seaborn>=0.11.0 in /usr/local/lib/python3.10/dist-packages (from ultralytics) (0.12.2)\n",
            "Requirement already satisfied: psutil in /usr/local/lib/python3.10/dist-packages (from ultralytics) (5.9.5)\n",
            "Collecting thop>=0.1.1 (from ultralytics)\n",
            "  Downloading thop-0.1.1.post2209072238-py3-none-any.whl (15 kB)\n",
            "Collecting sentry-sdk (from ultralytics)\n",
            "  Downloading sentry_sdk-1.21.1-py2.py3-none-any.whl (201 kB)\n",
            "\u001b[2K     \u001b[90m━━━━━━━━━━━━━━━━━━━━━━━━━━━━━━━━━━━━━━\u001b[0m \u001b[32m201.7/201.7 kB\u001b[0m \u001b[31m27.2 MB/s\u001b[0m eta \u001b[36m0:00:00\u001b[0m\n",
            "\u001b[?25hRequirement already satisfied: contourpy>=1.0.1 in /usr/local/lib/python3.10/dist-packages (from matplotlib>=3.2.2->ultralytics) (1.0.7)\n",
            "Requirement already satisfied: cycler>=0.10 in /usr/local/lib/python3.10/dist-packages (from matplotlib>=3.2.2->ultralytics) (0.11.0)\n",
            "Requirement already satisfied: fonttools>=4.22.0 in /usr/local/lib/python3.10/dist-packages (from matplotlib>=3.2.2->ultralytics) (4.39.3)\n",
            "Requirement already satisfied: kiwisolver>=1.0.1 in /usr/local/lib/python3.10/dist-packages (from matplotlib>=3.2.2->ultralytics) (1.4.4)\n",
            "Requirement already satisfied: numpy>=1.20 in /usr/local/lib/python3.10/dist-packages (from matplotlib>=3.2.2->ultralytics) (1.22.4)\n",
            "Requirement already satisfied: packaging>=20.0 in /usr/local/lib/python3.10/dist-packages (from matplotlib>=3.2.2->ultralytics) (23.1)\n",
            "Requirement already satisfied: pyparsing>=2.3.1 in /usr/local/lib/python3.10/dist-packages (from matplotlib>=3.2.2->ultralytics) (3.0.9)\n",
            "Requirement already satisfied: python-dateutil>=2.7 in /usr/local/lib/python3.10/dist-packages (from matplotlib>=3.2.2->ultralytics) (2.8.2)\n",
            "Requirement already satisfied: pytz>=2020.1 in /usr/local/lib/python3.10/dist-packages (from pandas>=1.1.4->ultralytics) (2022.7.1)\n",
            "Requirement already satisfied: urllib3<1.27,>=1.21.1 in /usr/local/lib/python3.10/dist-packages (from requests>=2.23.0->ultralytics) (1.26.15)\n",
            "Requirement already satisfied: certifi>=2017.4.17 in /usr/local/lib/python3.10/dist-packages (from requests>=2.23.0->ultralytics) (2022.12.7)\n",
            "Requirement already satisfied: charset-normalizer~=2.0.0 in /usr/local/lib/python3.10/dist-packages (from requests>=2.23.0->ultralytics) (2.0.12)\n",
            "Requirement already satisfied: idna<4,>=2.5 in /usr/local/lib/python3.10/dist-packages (from requests>=2.23.0->ultralytics) (3.4)\n",
            "Requirement already satisfied: filelock in /usr/local/lib/python3.10/dist-packages (from torch>=1.7.0->ultralytics) (3.12.0)\n",
            "Requirement already satisfied: typing-extensions in /usr/local/lib/python3.10/dist-packages (from torch>=1.7.0->ultralytics) (4.5.0)\n",
            "Requirement already satisfied: sympy in /usr/local/lib/python3.10/dist-packages (from torch>=1.7.0->ultralytics) (1.11.1)\n",
            "Requirement already satisfied: networkx in /usr/local/lib/python3.10/dist-packages (from torch>=1.7.0->ultralytics) (3.1)\n",
            "Requirement already satisfied: jinja2 in /usr/local/lib/python3.10/dist-packages (from torch>=1.7.0->ultralytics) (3.1.2)\n",
            "Requirement already satisfied: triton==2.0.0 in /usr/local/lib/python3.10/dist-packages (from torch>=1.7.0->ultralytics) (2.0.0)\n",
            "Requirement already satisfied: cmake in /usr/local/lib/python3.10/dist-packages (from triton==2.0.0->torch>=1.7.0->ultralytics) (3.25.2)\n",
            "Requirement already satisfied: lit in /usr/local/lib/python3.10/dist-packages (from triton==2.0.0->torch>=1.7.0->ultralytics) (16.0.2)\n",
            "Requirement already satisfied: six>=1.5 in /usr/local/lib/python3.10/dist-packages (from python-dateutil>=2.7->matplotlib>=3.2.2->ultralytics) (1.16.0)\n",
            "Requirement already satisfied: MarkupSafe>=2.0 in /usr/local/lib/python3.10/dist-packages (from jinja2->torch>=1.7.0->ultralytics) (2.1.2)\n",
            "Requirement already satisfied: mpmath>=0.19 in /usr/local/lib/python3.10/dist-packages (from sympy->torch>=1.7.0->ultralytics) (1.3.0)\n",
            "Installing collected packages: sentry-sdk, thop, ultralytics\n",
            "Successfully installed sentry-sdk-1.21.1 thop-0.1.1.post2209072238 ultralytics-8.0.90\n"
          ]
        }
      ],
      "source": [
        "pip install ultralytics"
      ]
    },
    {
      "cell_type": "code",
      "source": [
        "from google.colab import drive\n",
        "drive.mount('/content/drive')"
      ],
      "metadata": {
        "colab": {
          "base_uri": "https://localhost:8080/"
        },
        "id": "zwrvoXB2YukV",
        "outputId": "d5054a23-627a-4beb-e814-79852ad81c61"
      },
      "execution_count": 2,
      "outputs": [
        {
          "output_type": "stream",
          "name": "stdout",
          "text": [
            "Mounted at /content/drive\n"
          ]
        }
      ]
    },
    {
      "cell_type": "code",
      "source": [
        "%cd '/content/drive/MyDrive/CVPR assignment'"
      ],
      "metadata": {
        "colab": {
          "base_uri": "https://localhost:8080/"
        },
        "id": "y2BcvPJ7YoTN",
        "outputId": "6e46bed6-659f-48c6-e901-67a41fe1a28a"
      },
      "execution_count": 3,
      "outputs": [
        {
          "output_type": "stream",
          "name": "stdout",
          "text": [
            "/content/drive/MyDrive/CVPR assignment\n"
          ]
        }
      ]
    },
    {
      "cell_type": "code",
      "source": [
        "!ls"
      ],
      "metadata": {
        "colab": {
          "base_uri": "https://localhost:8080/"
        },
        "id": "WXsO9vLZZaXv",
        "outputId": "238c5831-56d4-4aee-a045-6ba56f9f3b8e"
      },
      "execution_count": 4,
      "outputs": [
        {
          "output_type": "stream",
          "name": "stdout",
          "text": [
            "dataset\t\t\t\t  data.yaml  runs-20230501T161353Z-001.zip\n",
            "dataset-20230501T161614Z-001.zip  runs\n"
          ]
        }
      ]
    },
    {
      "cell_type": "code",
      "source": [
        "\n",
        "!yolo task=detect mode=train model=yolov8x.pt data=data.yaml epochs=10 imgsz=600 plots=true"
      ],
      "metadata": {
        "colab": {
          "base_uri": "https://localhost:8080/"
        },
        "id": "3pA4gsDjZdBo",
        "outputId": "3507454a-a2f3-4d8f-9f61-0910ac254685"
      },
      "execution_count": 6,
      "outputs": [
        {
          "output_type": "stream",
          "name": "stdout",
          "text": [
            "Ultralytics YOLOv8.0.90 🚀 Python-3.10.11 torch-2.0.0+cu118 CUDA:0 (Tesla T4, 15102MiB)\n",
            "\u001b[34m\u001b[1myolo/engine/trainer: \u001b[0mtask=detect, mode=train, model=yolov8x.pt, data=data.yaml, epochs=10, patience=50, batch=16, imgsz=600, save=True, save_period=-1, cache=False, device=None, workers=8, project=None, name=None, exist_ok=False, pretrained=False, optimizer=SGD, verbose=True, seed=0, deterministic=True, single_cls=False, rect=False, cos_lr=False, close_mosaic=0, resume=False, amp=True, overlap_mask=True, mask_ratio=4, dropout=0.0, val=True, split=val, save_json=False, save_hybrid=False, conf=None, iou=0.7, max_det=300, half=False, dnn=False, plots=True, source=None, show=False, save_txt=False, save_conf=False, save_crop=False, show_labels=True, show_conf=True, vid_stride=1, line_thickness=3, visualize=False, augment=False, agnostic_nms=False, classes=None, retina_masks=False, boxes=True, format=torchscript, keras=False, optimize=False, int8=False, dynamic=False, simplify=False, opset=None, workspace=4, nms=False, lr0=0.01, lrf=0.01, momentum=0.937, weight_decay=0.0005, warmup_epochs=3.0, warmup_momentum=0.8, warmup_bias_lr=0.1, box=7.5, cls=0.5, dfl=1.5, pose=12.0, kobj=1.0, label_smoothing=0.0, nbs=64, hsv_h=0.015, hsv_s=0.7, hsv_v=0.4, degrees=0.0, translate=0.1, scale=0.5, shear=0.0, perspective=0.0, flipud=0.0, fliplr=0.5, mosaic=1.0, mixup=0.0, copy_paste=0.0, cfg=None, v5loader=False, tracker=botsort.yaml, save_dir=runs/detect/train3\n",
            "Downloading https://ultralytics.com/assets/Arial.ttf to /root/.config/Ultralytics/Arial.ttf...\n",
            "100% 755k/755k [00:00<00:00, 76.4MB/s]\n",
            "Overriding model.yaml nc=80 with nc=2\n",
            "\n",
            "                   from  n    params  module                                       arguments                     \n",
            "  0                  -1  1      2320  ultralytics.nn.modules.Conv                  [3, 80, 3, 2]                 \n",
            "  1                  -1  1    115520  ultralytics.nn.modules.Conv                  [80, 160, 3, 2]               \n",
            "  2                  -1  3    436800  ultralytics.nn.modules.C2f                   [160, 160, 3, True]           \n",
            "  3                  -1  1    461440  ultralytics.nn.modules.Conv                  [160, 320, 3, 2]              \n",
            "  4                  -1  6   3281920  ultralytics.nn.modules.C2f                   [320, 320, 6, True]           \n",
            "  5                  -1  1   1844480  ultralytics.nn.modules.Conv                  [320, 640, 3, 2]              \n",
            "  6                  -1  6  13117440  ultralytics.nn.modules.C2f                   [640, 640, 6, True]           \n",
            "  7                  -1  1   3687680  ultralytics.nn.modules.Conv                  [640, 640, 3, 2]              \n",
            "  8                  -1  3   6969600  ultralytics.nn.modules.C2f                   [640, 640, 3, True]           \n",
            "  9                  -1  1   1025920  ultralytics.nn.modules.SPPF                  [640, 640, 5]                 \n",
            " 10                  -1  1         0  torch.nn.modules.upsampling.Upsample         [None, 2, 'nearest']          \n",
            " 11             [-1, 6]  1         0  ultralytics.nn.modules.Concat                [1]                           \n",
            " 12                  -1  3   7379200  ultralytics.nn.modules.C2f                   [1280, 640, 3]                \n",
            " 13                  -1  1         0  torch.nn.modules.upsampling.Upsample         [None, 2, 'nearest']          \n",
            " 14             [-1, 4]  1         0  ultralytics.nn.modules.Concat                [1]                           \n",
            " 15                  -1  3   1948800  ultralytics.nn.modules.C2f                   [960, 320, 3]                 \n",
            " 16                  -1  1    922240  ultralytics.nn.modules.Conv                  [320, 320, 3, 2]              \n",
            " 17            [-1, 12]  1         0  ultralytics.nn.modules.Concat                [1]                           \n",
            " 18                  -1  3   7174400  ultralytics.nn.modules.C2f                   [960, 640, 3]                 \n",
            " 19                  -1  1   3687680  ultralytics.nn.modules.Conv                  [640, 640, 3, 2]              \n",
            " 20             [-1, 9]  1         0  ultralytics.nn.modules.Concat                [1]                           \n",
            " 21                  -1  3   7379200  ultralytics.nn.modules.C2f                   [1280, 640, 3]                \n",
            " 22        [15, 18, 21]  1   8719894  ultralytics.nn.modules.Detect                [2, [320, 640, 640]]          \n",
            "Model summary: 365 layers, 68154534 parameters, 68154518 gradients, 258.1 GFLOPs\n",
            "\n",
            "Transferred 589/595 items from pretrained weights\n",
            "\u001b[34m\u001b[1mTensorBoard: \u001b[0mStart with 'tensorboard --logdir runs/detect/train3', view at http://localhost:6006/\n",
            "\u001b[34m\u001b[1mAMP: \u001b[0mrunning Automatic Mixed Precision (AMP) checks with YOLOv8n...\n",
            "Downloading https://github.com/ultralytics/assets/releases/download/v0.0.0/yolov8n.pt to yolov8n.pt...\n",
            "100% 6.23M/6.23M [00:00<00:00, 22.3MB/s]\n",
            "\u001b[34m\u001b[1mAMP: \u001b[0mchecks passed ✅\n",
            "WARNING ⚠️ imgsz=[600] must be multiple of max stride 32, updating to [608]\n",
            "\u001b[34m\u001b[1moptimizer:\u001b[0m SGD(lr=0.01) with parameter groups 97 weight(decay=0.0), 104 weight(decay=0.0005), 103 bias\n",
            "\u001b[34m\u001b[1mtrain: \u001b[0mScanning /content/drive/MyDrive/CVPR assignment/dataset/train/labels... 768 images, 0 backgrounds, 0 corrupt: 100% 768/768 [07:33<00:00,  1.69it/s]\n",
            "\u001b[34m\u001b[1mtrain: \u001b[0mNew cache created: /content/drive/MyDrive/CVPR assignment/dataset/train/labels.cache\n",
            "\u001b[34m\u001b[1malbumentations: \u001b[0mBlur(p=0.01, blur_limit=(3, 7)), MedianBlur(p=0.01, blur_limit=(3, 7)), ToGray(p=0.01), CLAHE(p=0.01, clip_limit=(1, 4.0), tile_grid_size=(8, 8))\n",
            "\u001b[34m\u001b[1mval: \u001b[0mScanning /content/drive/MyDrive/CVPR assignment/dataset/val/labels... 298 images, 0 backgrounds, 0 corrupt: 100% 298/298 [02:53<00:00,  1.71it/s]\n",
            "\u001b[34m\u001b[1mval: \u001b[0mNew cache created: /content/drive/MyDrive/CVPR assignment/dataset/val/labels.cache\n",
            "Plotting labels to runs/detect/train3/labels.jpg... \n",
            "Image sizes 608 train, 608 val\n",
            "Using 2 dataloader workers\n",
            "Logging results to \u001b[1mruns/detect/train3\u001b[0m\n",
            "Starting training for 10 epochs...\n",
            "\n",
            "      Epoch    GPU_mem   box_loss   cls_loss   dfl_loss  Instances       Size\n",
            "       1/10      12.3G      1.755        2.5      2.104         63        608: 100% 48/48 [00:56<00:00,  1.17s/it]\n",
            "                 Class     Images  Instances      Box(P          R      mAP50  mAP50-95): 100% 10/10 [00:10<00:00,  1.01s/it]\n",
            "                   all        298        404      0.905      0.756      0.833      0.456\n",
            "\n",
            "      Epoch    GPU_mem   box_loss   cls_loss   dfl_loss  Instances       Size\n",
            "       2/10      12.6G      1.521      1.313      1.742         51        608: 100% 48/48 [00:54<00:00,  1.13s/it]\n",
            "                 Class     Images  Instances      Box(P          R      mAP50  mAP50-95): 100% 10/10 [00:08<00:00,  1.16it/s]\n",
            "                   all        298        404      0.924      0.793      0.896      0.504\n",
            "\n",
            "      Epoch    GPU_mem   box_loss   cls_loss   dfl_loss  Instances       Size\n",
            "       3/10      12.6G      1.426      1.117      1.639         33        608: 100% 48/48 [00:53<00:00,  1.11s/it]\n",
            "                 Class     Images  Instances      Box(P          R      mAP50  mAP50-95): 100% 10/10 [00:08<00:00,  1.17it/s]\n",
            "                   all        298        404      0.891      0.642      0.795      0.431\n",
            "\n",
            "      Epoch    GPU_mem   box_loss   cls_loss   dfl_loss  Instances       Size\n",
            "       4/10      12.7G      1.452      1.035      1.611         40        608: 100% 48/48 [00:53<00:00,  1.11s/it]\n",
            "                 Class     Images  Instances      Box(P          R      mAP50  mAP50-95): 100% 10/10 [00:08<00:00,  1.23it/s]\n",
            "                   all        298        404      0.778      0.839      0.834      0.441\n",
            "\n",
            "      Epoch    GPU_mem   box_loss   cls_loss   dfl_loss  Instances       Size\n",
            "       5/10      12.7G      1.492      0.937      1.621         78        608: 100% 48/48 [00:53<00:00,  1.11s/it]\n",
            "                 Class     Images  Instances      Box(P          R      mAP50  mAP50-95): 100% 10/10 [00:08<00:00,  1.15it/s]\n",
            "                   all        298        404      0.923      0.801      0.895      0.505\n",
            "\n",
            "      Epoch    GPU_mem   box_loss   cls_loss   dfl_loss  Instances       Size\n",
            "       6/10      12.7G      1.462     0.9203       1.62         55        608: 100% 48/48 [00:53<00:00,  1.12s/it]\n",
            "                 Class     Images  Instances      Box(P          R      mAP50  mAP50-95): 100% 10/10 [00:08<00:00,  1.17it/s]\n",
            "                   all        298        404      0.856      0.843      0.888      0.446\n",
            "\n",
            "      Epoch    GPU_mem   box_loss   cls_loss   dfl_loss  Instances       Size\n",
            "       7/10      12.6G       1.43     0.8902      1.606         34        608: 100% 48/48 [00:52<00:00,  1.10s/it]\n",
            "                 Class     Images  Instances      Box(P          R      mAP50  mAP50-95): 100% 10/10 [00:08<00:00,  1.24it/s]\n",
            "                   all        298        404      0.949      0.845      0.948      0.555\n",
            "\n",
            "      Epoch    GPU_mem   box_loss   cls_loss   dfl_loss  Instances       Size\n",
            "       8/10      12.6G      1.397     0.8196      1.539        112        608: 100% 48/48 [00:53<00:00,  1.11s/it]\n",
            "                 Class     Images  Instances      Box(P          R      mAP50  mAP50-95): 100% 10/10 [00:08<00:00,  1.15it/s]\n",
            "                   all        298        404      0.938      0.884      0.963      0.567\n",
            "\n",
            "      Epoch    GPU_mem   box_loss   cls_loss   dfl_loss  Instances       Size\n",
            "       9/10      12.7G       1.36     0.8107      1.536         40        608: 100% 48/48 [00:53<00:00,  1.11s/it]\n",
            "                 Class     Images  Instances      Box(P          R      mAP50  mAP50-95): 100% 10/10 [00:08<00:00,  1.23it/s]\n",
            "                   all        298        404      0.951      0.896      0.968      0.591\n",
            "\n",
            "      Epoch    GPU_mem   box_loss   cls_loss   dfl_loss  Instances       Size\n",
            "      10/10      12.6G      1.325     0.7309      1.499         39        608: 100% 48/48 [00:54<00:00,  1.13s/it]\n",
            "                 Class     Images  Instances      Box(P          R      mAP50  mAP50-95): 100% 10/10 [00:12<00:00,  1.24s/it]\n",
            "                   all        298        404      0.954      0.923      0.976        0.6\n",
            "\n",
            "10 epochs completed in 0.187 hours.\n",
            "Optimizer stripped from runs/detect/train3/weights/last.pt, 136.7MB\n",
            "Optimizer stripped from runs/detect/train3/weights/best.pt, 136.7MB\n",
            "\n",
            "Validating runs/detect/train3/weights/best.pt...\n",
            "Ultralytics YOLOv8.0.90 🚀 Python-3.10.11 torch-2.0.0+cu118 CUDA:0 (Tesla T4, 15102MiB)\n",
            "Model summary (fused): 268 layers, 68125494 parameters, 0 gradients, 257.4 GFLOPs\n",
            "                 Class     Images  Instances      Box(P          R      mAP50  mAP50-95): 100% 10/10 [00:11<00:00,  1.18s/it]\n",
            "                   all        298        404      0.954      0.922      0.976        0.6\n",
            "             with_mask        298        236      0.939      0.941      0.973       0.55\n",
            "          without_mask        298        168      0.968      0.904      0.979       0.65\n",
            "Speed: 1.3ms preprocess, 20.9ms inference, 0.0ms loss, 2.4ms postprocess per image\n",
            "Results saved to \u001b[1mruns/detect/train3\u001b[0m\n"
          ]
        }
      ]
    },
    {
      "cell_type": "code",
      "source": [
        "!yolo task=detect mode=predict model=/content/drive/MyDrive/CVPR_assignment/runs/detect/train3/weights/best.pt conf= 0.25 source =/content/drive/MyDrive/CVPR_assignment/dataset/test/images"
      ],
      "metadata": {
        "colab": {
          "base_uri": "https://localhost:8080/"
        },
        "id": "zC75x2WxfwSJ",
        "outputId": "75192916-2a04-42c8-8b2e-4063dda957ab"
      },
      "execution_count": 14,
      "outputs": [
        {
          "output_type": "stream",
          "name": "stdout",
          "text": [
            "Ultralytics YOLOv8.0.90 🚀 Python-3.10.11 torch-2.0.0+cu118 CUDA:0 (Tesla T4, 15102MiB)\n",
            "Model summary (fused): 268 layers, 68125494 parameters, 0 gradients, 257.4 GFLOPs\n",
            "\n",
            "image 1/160 /content/drive/MyDrive/CVPR_assignment/dataset/test/images/102.jpg: 608x608 1 without_mask, 71.2ms\n",
            "image 2/160 /content/drive/MyDrive/CVPR_assignment/dataset/test/images/104.jpg: 608x608 1 with_mask, 1 without_mask, 71.2ms\n",
            "image 3/160 /content/drive/MyDrive/CVPR_assignment/dataset/test/images/109.jpg: 608x608 1 without_mask, 71.2ms\n",
            "image 4/160 /content/drive/MyDrive/CVPR_assignment/dataset/test/images/110.jpg: 608x608 1 without_mask, 64.0ms\n",
            "image 5/160 /content/drive/MyDrive/CVPR_assignment/dataset/test/images/112.jpg: 608x608 1 without_mask, 59.2ms\n",
            "image 6/160 /content/drive/MyDrive/CVPR_assignment/dataset/test/images/12.jpg: 608x608 1 without_mask, 59.1ms\n",
            "image 7/160 /content/drive/MyDrive/CVPR_assignment/dataset/test/images/125.jpg: 608x608 1 without_mask, 46.6ms\n",
            "image 8/160 /content/drive/MyDrive/CVPR_assignment/dataset/test/images/13.jpg: 608x608 2 with_masks, 1 without_mask, 46.6ms\n",
            "image 9/160 /content/drive/MyDrive/CVPR_assignment/dataset/test/images/136.jpg: 608x608 1 without_mask, 48.0ms\n",
            "image 10/160 /content/drive/MyDrive/CVPR_assignment/dataset/test/images/145.jpg: 608x608 1 without_mask, 46.6ms\n",
            "image 11/160 /content/drive/MyDrive/CVPR_assignment/dataset/test/images/153.jpg: 608x608 1 without_mask, 46.4ms\n",
            "image 12/160 /content/drive/MyDrive/CVPR_assignment/dataset/test/images/163.jpg: 608x608 1 with_mask, 1 without_mask, 44.3ms\n",
            "image 13/160 /content/drive/MyDrive/CVPR_assignment/dataset/test/images/164.jpg: 608x608 1 without_mask, 47.0ms\n",
            "image 14/160 /content/drive/MyDrive/CVPR_assignment/dataset/test/images/173.jpg: 608x608 1 without_mask, 47.3ms\n",
            "image 15/160 /content/drive/MyDrive/CVPR_assignment/dataset/test/images/176.jpg: 608x608 1 without_mask, 46.2ms\n",
            "image 16/160 /content/drive/MyDrive/CVPR_assignment/dataset/test/images/18.jpg: 608x608 1 without_mask, 47.0ms\n",
            "image 17/160 /content/drive/MyDrive/CVPR_assignment/dataset/test/images/181.jpg: 608x608 1 without_mask, 46.5ms\n",
            "image 18/160 /content/drive/MyDrive/CVPR_assignment/dataset/test/images/19.jpg: 608x608 1 without_mask, 47.8ms\n",
            "image 19/160 /content/drive/MyDrive/CVPR_assignment/dataset/test/images/195.jpg: 608x608 1 without_mask, 47.4ms\n",
            "image 20/160 /content/drive/MyDrive/CVPR_assignment/dataset/test/images/198.jpg: 608x608 1 without_mask, 46.9ms\n",
            "image 21/160 /content/drive/MyDrive/CVPR_assignment/dataset/test/images/24.jpg: 608x608 1 without_mask, 45.9ms\n",
            "image 22/160 /content/drive/MyDrive/CVPR_assignment/dataset/test/images/27.jpg: 608x608 1 without_mask, 48.5ms\n",
            "image 23/160 /content/drive/MyDrive/CVPR_assignment/dataset/test/images/30.jpg: 608x608 1 without_mask, 46.4ms\n",
            "image 24/160 /content/drive/MyDrive/CVPR_assignment/dataset/test/images/35.jpg: 608x608 1 without_mask, 47.5ms\n",
            "image 25/160 /content/drive/MyDrive/CVPR_assignment/dataset/test/images/38.jpg: 608x608 1 without_mask, 47.7ms\n",
            "image 26/160 /content/drive/MyDrive/CVPR_assignment/dataset/test/images/42.jpg: 608x608 1 without_mask, 46.3ms\n",
            "image 27/160 /content/drive/MyDrive/CVPR_assignment/dataset/test/images/48.jpg: 608x608 1 without_mask, 48.3ms\n",
            "image 28/160 /content/drive/MyDrive/CVPR_assignment/dataset/test/images/49.jpg: 608x608 1 without_mask, 46.6ms\n",
            "image 29/160 /content/drive/MyDrive/CVPR_assignment/dataset/test/images/51.jpg: 608x608 1 without_mask, 49.1ms\n",
            "image 30/160 /content/drive/MyDrive/CVPR_assignment/dataset/test/images/56.jpg: 608x608 1 without_mask, 44.8ms\n",
            "image 31/160 /content/drive/MyDrive/CVPR_assignment/dataset/test/images/66.jpg: 608x608 1 without_mask, 46.9ms\n",
            "image 32/160 /content/drive/MyDrive/CVPR_assignment/dataset/test/images/7.jpg: 608x608 1 without_mask, 45.0ms\n",
            "image 33/160 /content/drive/MyDrive/CVPR_assignment/dataset/test/images/70.jpg: 608x608 1 without_mask, 48.2ms\n",
            "image 34/160 /content/drive/MyDrive/CVPR_assignment/dataset/test/images/72.jpg: 608x608 1 without_mask, 54.8ms\n",
            "image 35/160 /content/drive/MyDrive/CVPR_assignment/dataset/test/images/83.jpg: 608x608 1 without_mask, 46.1ms\n",
            "image 36/160 /content/drive/MyDrive/CVPR_assignment/dataset/test/images/85.jpg: 608x608 1 without_mask, 47.0ms\n",
            "image 37/160 /content/drive/MyDrive/CVPR_assignment/dataset/test/images/97.jpg: 608x608 1 without_mask, 46.8ms\n",
            "image 38/160 /content/drive/MyDrive/CVPR_assignment/dataset/test/images/asian_mask10.jpg: 608x608 1 with_mask, 48.8ms\n",
            "image 39/160 /content/drive/MyDrive/CVPR_assignment/dataset/test/images/asian_mask106.jpg: 480x608 1 with_mask, 64.9ms\n",
            "image 40/160 /content/drive/MyDrive/CVPR_assignment/dataset/test/images/asian_mask108.jpg: 608x608 2 with_masks, 46.0ms\n",
            "image 41/160 /content/drive/MyDrive/CVPR_assignment/dataset/test/images/asian_mask11.jpg: 608x608 1 with_mask, 49.8ms\n",
            "image 42/160 /content/drive/MyDrive/CVPR_assignment/dataset/test/images/asian_mask110.jpg: 608x608 1 with_mask, 48.8ms\n",
            "image 43/160 /content/drive/MyDrive/CVPR_assignment/dataset/test/images/asian_mask123.jpg: 512x608 1 with_mask, 74.1ms\n",
            "image 44/160 /content/drive/MyDrive/CVPR_assignment/dataset/test/images/asian_mask137.jpg: 608x608 1 with_mask, 45.6ms\n",
            "image 45/160 /content/drive/MyDrive/CVPR_assignment/dataset/test/images/asian_mask138.jpg: 480x608 1 with_mask, 39.7ms\n",
            "image 46/160 /content/drive/MyDrive/CVPR_assignment/dataset/test/images/asian_mask141.jpg: 576x608 1 with_mask, 69.3ms\n",
            "image 47/160 /content/drive/MyDrive/CVPR_assignment/dataset/test/images/asian_mask144.jpg: 608x608 1 with_mask, 46.2ms\n",
            "image 48/160 /content/drive/MyDrive/CVPR_assignment/dataset/test/images/asian_mask150.jpg: 608x608 1 with_mask, 49.6ms\n",
            "image 49/160 /content/drive/MyDrive/CVPR_assignment/dataset/test/images/asian_mask155.jpg: 608x352 1 with_mask, 64.4ms\n",
            "image 50/160 /content/drive/MyDrive/CVPR_assignment/dataset/test/images/asian_mask157.jpg: 480x608 1 with_mask, 35.1ms\n",
            "image 51/160 /content/drive/MyDrive/CVPR_assignment/dataset/test/images/asian_mask168.jpg: 608x608 1 with_mask, 48.0ms\n",
            "image 52/160 /content/drive/MyDrive/CVPR_assignment/dataset/test/images/asian_mask169.jpg: 608x608 1 with_mask, 50.0ms\n",
            "image 53/160 /content/drive/MyDrive/CVPR_assignment/dataset/test/images/asian_mask171.jpg: 608x608 1 with_mask, 49.2ms\n",
            "image 54/160 /content/drive/MyDrive/CVPR_assignment/dataset/test/images/asian_mask173.jpg: 608x608 1 with_mask, 50.0ms\n",
            "image 55/160 /content/drive/MyDrive/CVPR_assignment/dataset/test/images/asian_mask174.jpg: 448x608 (no detections), 65.4ms\n",
            "image 56/160 /content/drive/MyDrive/CVPR_assignment/dataset/test/images/asian_mask182.jpg: 608x608 1 with_mask, 46.3ms\n",
            "image 57/160 /content/drive/MyDrive/CVPR_assignment/dataset/test/images/asian_mask196.jpg: 608x608 1 with_mask, 50.6ms\n",
            "image 58/160 /content/drive/MyDrive/CVPR_assignment/dataset/test/images/asian_mask198.jpg: 608x608 1 with_mask, 49.3ms\n",
            "image 59/160 /content/drive/MyDrive/CVPR_assignment/dataset/test/images/asian_mask199.jpg: 576x608 1 with_mask, 47.4ms\n",
            "image 60/160 /content/drive/MyDrive/CVPR_assignment/dataset/test/images/asian_mask20.jpg: 608x608 1 with_mask, 50.5ms\n",
            "image 61/160 /content/drive/MyDrive/CVPR_assignment/dataset/test/images/asian_mask203.jpg: 608x608 1 with_mask, 46.7ms\n",
            "image 62/160 /content/drive/MyDrive/CVPR_assignment/dataset/test/images/asian_mask204.jpg: 608x512 1 with_mask, 65.4ms\n",
            "image 63/160 /content/drive/MyDrive/CVPR_assignment/dataset/test/images/asian_mask205.jpg: 544x608 3 with_masks, 65.7ms\n",
            "image 64/160 /content/drive/MyDrive/CVPR_assignment/dataset/test/images/asian_mask207.jpg: 608x480 1 with_mask, 62.1ms\n",
            "image 65/160 /content/drive/MyDrive/CVPR_assignment/dataset/test/images/asian_mask214.jpg: 608x448 (no detections), 65.2ms\n",
            "image 66/160 /content/drive/MyDrive/CVPR_assignment/dataset/test/images/asian_mask218.jpg: 608x608 1 with_mask, 46.9ms\n",
            "image 67/160 /content/drive/MyDrive/CVPR_assignment/dataset/test/images/asian_mask224.jpg: 608x608 1 with_mask, 50.7ms\n",
            "image 68/160 /content/drive/MyDrive/CVPR_assignment/dataset/test/images/asian_mask227.jpg: 608x608 1 with_mask, 49.6ms\n",
            "image 69/160 /content/drive/MyDrive/CVPR_assignment/dataset/test/images/asian_mask241.jpg: 480x608 2 with_masks, 40.0ms\n",
            "image 70/160 /content/drive/MyDrive/CVPR_assignment/dataset/test/images/asian_mask243.jpg: 480x608 4 with_masks, 35.6ms\n",
            "image 71/160 /content/drive/MyDrive/CVPR_assignment/dataset/test/images/asian_mask244.jpg: 608x608 2 with_masks, 50.5ms\n",
            "image 72/160 /content/drive/MyDrive/CVPR_assignment/dataset/test/images/asian_mask245.jpg: 608x480 1 with_mask, 38.1ms\n",
            "image 73/160 /content/drive/MyDrive/CVPR_assignment/dataset/test/images/asian_mask26.jpg: 608x608 1 with_mask, 49.3ms\n",
            "image 74/160 /content/drive/MyDrive/CVPR_assignment/dataset/test/images/asian_mask261.jpg: 576x608 1 with_mask, 48.4ms\n",
            "image 75/160 /content/drive/MyDrive/CVPR_assignment/dataset/test/images/asian_mask29.jpg: 608x608 1 with_mask, 50.3ms\n",
            "image 76/160 /content/drive/MyDrive/CVPR_assignment/dataset/test/images/asian_mask295.jpg: 608x608 1 with_mask, 47.8ms\n",
            "image 77/160 /content/drive/MyDrive/CVPR_assignment/dataset/test/images/asian_mask31.jpg: 608x608 1 with_mask, 49.2ms\n",
            "image 78/160 /content/drive/MyDrive/CVPR_assignment/dataset/test/images/asian_mask35.jpg: 608x608 1 with_mask, 48.9ms\n",
            "image 79/160 /content/drive/MyDrive/CVPR_assignment/dataset/test/images/asian_mask38.jpg: 608x608 1 with_mask, 50.9ms\n",
            "image 80/160 /content/drive/MyDrive/CVPR_assignment/dataset/test/images/asian_mask47.jpg: 608x608 1 with_mask, 48.9ms\n",
            "image 81/160 /content/drive/MyDrive/CVPR_assignment/dataset/test/images/asian_mask53.jpg: 608x608 1 with_mask, 49.5ms\n",
            "image 82/160 /content/drive/MyDrive/CVPR_assignment/dataset/test/images/asian_mask56.jpg: 608x608 1 with_mask, 49.4ms\n",
            "image 83/160 /content/drive/MyDrive/CVPR_assignment/dataset/test/images/asian_mask58.jpg: 608x512 1 with_mask, 38.5ms\n",
            "image 84/160 /content/drive/MyDrive/CVPR_assignment/dataset/test/images/asian_mask63.jpg: 608x352 1 with_mask, 33.4ms\n",
            "image 85/160 /content/drive/MyDrive/CVPR_assignment/dataset/test/images/asian_mask64.jpg: 384x608 1 with_mask, 66.8ms\n",
            "image 86/160 /content/drive/MyDrive/CVPR_assignment/dataset/test/images/asian_mask76.jpg: 608x608 2 with_masks, 45.1ms\n",
            "image 87/160 /content/drive/MyDrive/CVPR_assignment/dataset/test/images/asian_mask81.jpg: 608x608 1 with_mask, 45.3ms\n",
            "image 88/160 /content/drive/MyDrive/CVPR_assignment/dataset/test/images/asian_mask85.jpg: 608x608 1 with_mask, 49.6ms\n",
            "image 89/160 /content/drive/MyDrive/CVPR_assignment/dataset/test/images/asian_mask87.jpg: 608x480 1 with_mask, 40.7ms\n",
            "image 90/160 /content/drive/MyDrive/CVPR_assignment/dataset/test/images/asian_mask88.jpg: 608x608 1 with_mask, 50.3ms\n",
            "image 91/160 /content/drive/MyDrive/CVPR_assignment/dataset/test/images/asian_mask9.jpg: 608x608 1 with_mask, 49.2ms\n",
            "image 92/160 /content/drive/MyDrive/CVPR_assignment/dataset/test/images/asian_mask93.jpg: 608x608 1 with_mask, 49.0ms\n",
            "image 93/160 /content/drive/MyDrive/CVPR_assignment/dataset/test/images/asian_mask95.jpg: 512x608 1 with_mask, 41.8ms\n",
            "image 94/160 /content/drive/MyDrive/CVPR_assignment/dataset/test/images/asian_mask98.jpg: 608x608 1 with_mask, 49.8ms\n",
            "image 95/160 /content/drive/MyDrive/CVPR_assignment/dataset/test/images/crowd_mask120.jpg: 416x608 9 with_masks, 1 without_mask, 65.0ms\n",
            "image 96/160 /content/drive/MyDrive/CVPR_assignment/dataset/test/images/crowd_mask125.jpg: 480x608 1 with_mask, 34.0ms\n",
            "image 97/160 /content/drive/MyDrive/CVPR_assignment/dataset/test/images/crowd_mask131.jpg: 608x608 1 with_mask, 49.8ms\n",
            "image 98/160 /content/drive/MyDrive/CVPR_assignment/dataset/test/images/crowd_mask134.jpg: 416x608 1 with_mask, 34.2ms\n",
            "image 99/160 /content/drive/MyDrive/CVPR_assignment/dataset/test/images/crowd_mask145.jpg: 608x512 1 with_mask, 36.1ms\n",
            "image 100/160 /content/drive/MyDrive/CVPR_assignment/dataset/test/images/crowd_mask149.jpg: 320x608 1 with_mask, 69.0ms\n",
            "image 101/160 /content/drive/MyDrive/CVPR_assignment/dataset/test/images/crowd_mask156.jpg: 352x608 3 without_masks, 67.4ms\n",
            "image 102/160 /content/drive/MyDrive/CVPR_assignment/dataset/test/images/crowd_mask175.jpg: 352x608 4 with_masks, 27.7ms\n",
            "image 103/160 /content/drive/MyDrive/CVPR_assignment/dataset/test/images/crowd_mask189.jpg: 416x608 18 with_masks, 31.3ms\n",
            "image 104/160 /content/drive/MyDrive/CVPR_assignment/dataset/test/images/crowd_mask192.jpg: 608x608 1 with_mask, 45.3ms\n",
            "image 105/160 /content/drive/MyDrive/CVPR_assignment/dataset/test/images/crowd_mask34.jpg: 448x608 2 with_masks, 36.1ms\n",
            "image 106/160 /content/drive/MyDrive/CVPR_assignment/dataset/test/images/crowd_mask42.jpg: 416x608 1 with_mask, 7 without_masks, 32.1ms\n",
            "image 107/160 /content/drive/MyDrive/CVPR_assignment/dataset/test/images/crowd_mask53.jpg: 608x416 1 with_mask, 62.9ms\n",
            "image 108/160 /content/drive/MyDrive/CVPR_assignment/dataset/test/images/crowd_mask58.jpg: 608x608 1 with_mask, 45.9ms\n",
            "image 109/160 /content/drive/MyDrive/CVPR_assignment/dataset/test/images/crowd_mask69.jpg: 416x608 95 with_masks, 13 without_masks, 33.7ms\n",
            "image 110/160 /content/drive/MyDrive/CVPR_assignment/dataset/test/images/crowd_mask71.jpg: 448x608 1 with_mask, 5 without_masks, 32.5ms\n",
            "image 111/160 /content/drive/MyDrive/CVPR_assignment/dataset/test/images/crowd_mask74.jpg: 608x480 1 with_mask, 34.4ms\n",
            "image 112/160 /content/drive/MyDrive/CVPR_assignment/dataset/test/images/crowd_mask83.jpg: 384x608 2 with_masks, 32.3ms\n",
            "image 113/160 /content/drive/MyDrive/CVPR_assignment/dataset/test/images/crowd_mask91.jpg: 416x608 5 with_masks, 31.9ms\n",
            "image 114/160 /content/drive/MyDrive/CVPR_assignment/dataset/test/images/new_103.jpg: 608x608 1 without_mask, 49.1ms\n",
            "image 115/160 /content/drive/MyDrive/CVPR_assignment/dataset/test/images/new_105.jpg: 608x608 1 with_mask, 1 without_mask, 46.9ms\n",
            "image 116/160 /content/drive/MyDrive/CVPR_assignment/dataset/test/images/new_11.jpg: 416x608 1 with_mask, 35.2ms\n",
            "image 117/160 /content/drive/MyDrive/CVPR_assignment/dataset/test/images/new_113.jpg: 608x608 1 without_mask, 48.5ms\n",
            "image 118/160 /content/drive/MyDrive/CVPR_assignment/dataset/test/images/new_116.jpg: 608x608 1 without_mask, 47.3ms\n",
            "image 119/160 /content/drive/MyDrive/CVPR_assignment/dataset/test/images/new_119.jpg: 608x608 1 without_mask, 47.5ms\n",
            "image 120/160 /content/drive/MyDrive/CVPR_assignment/dataset/test/images/new_130.jpg: 608x608 1 without_mask, 46.7ms\n",
            "image 121/160 /content/drive/MyDrive/CVPR_assignment/dataset/test/images/new_14.jpg: 416x608 1 with_mask, 34.9ms\n",
            "image 122/160 /content/drive/MyDrive/CVPR_assignment/dataset/test/images/new_143.jpg: 608x608 1 without_mask, 47.8ms\n",
            "image 123/160 /content/drive/MyDrive/CVPR_assignment/dataset/test/images/new_149.jpg: 608x608 1 without_mask, 47.7ms\n",
            "image 124/160 /content/drive/MyDrive/CVPR_assignment/dataset/test/images/new_16.jpg: 416x608 4 with_masks, 32.2ms\n",
            "image 125/160 /content/drive/MyDrive/CVPR_assignment/dataset/test/images/new_160.jpg: 608x608 1 without_mask, 46.9ms\n",
            "image 126/160 /content/drive/MyDrive/CVPR_assignment/dataset/test/images/new_161.jpg: 608x608 1 without_mask, 46.1ms\n",
            "image 127/160 /content/drive/MyDrive/CVPR_assignment/dataset/test/images/new_167.jpg: 608x608 1 without_mask, 47.1ms\n",
            "image 128/160 /content/drive/MyDrive/CVPR_assignment/dataset/test/images/new_181.jpg: 608x608 1 without_mask, 46.1ms\n",
            "image 129/160 /content/drive/MyDrive/CVPR_assignment/dataset/test/images/new_189.jpg: 608x608 1 without_mask, 46.8ms\n",
            "image 130/160 /content/drive/MyDrive/CVPR_assignment/dataset/test/images/new_190.jpg: 608x608 1 without_mask, 45.5ms\n",
            "image 131/160 /content/drive/MyDrive/CVPR_assignment/dataset/test/images/new_193.jpg: 608x608 1 without_mask, 46.1ms\n",
            "image 132/160 /content/drive/MyDrive/CVPR_assignment/dataset/test/images/new_196.jpg: 608x608 1 without_mask, 46.3ms\n",
            "image 133/160 /content/drive/MyDrive/CVPR_assignment/dataset/test/images/new_198.jpg: 608x608 1 without_mask, 46.7ms\n",
            "image 134/160 /content/drive/MyDrive/CVPR_assignment/dataset/test/images/new_201.jpg: 608x608 1 without_mask, 45.5ms\n",
            "image 135/160 /content/drive/MyDrive/CVPR_assignment/dataset/test/images/new_203.jpg: 608x608 1 without_mask, 46.6ms\n",
            "image 136/160 /content/drive/MyDrive/CVPR_assignment/dataset/test/images/new_21.jpg: 416x608 1 with_mask, 34.1ms\n",
            "image 137/160 /content/drive/MyDrive/CVPR_assignment/dataset/test/images/new_218.jpg: 608x608 1 without_mask, 47.2ms\n",
            "image 138/160 /content/drive/MyDrive/CVPR_assignment/dataset/test/images/new_224.jpg: 608x608 1 without_mask, 44.7ms\n",
            "image 139/160 /content/drive/MyDrive/CVPR_assignment/dataset/test/images/new_237.jpg: 608x608 1 without_mask, 47.5ms\n",
            "image 140/160 /content/drive/MyDrive/CVPR_assignment/dataset/test/images/new_239.jpg: 608x608 1 without_mask, 46.2ms\n",
            "image 141/160 /content/drive/MyDrive/CVPR_assignment/dataset/test/images/new_241.jpg: 608x608 1 without_mask, 45.7ms\n",
            "image 142/160 /content/drive/MyDrive/CVPR_assignment/dataset/test/images/new_247.jpg: 608x608 1 without_mask, 46.4ms\n",
            "image 143/160 /content/drive/MyDrive/CVPR_assignment/dataset/test/images/new_255.jpg: 608x608 1 without_mask, 46.2ms\n",
            "image 144/160 /content/drive/MyDrive/CVPR_assignment/dataset/test/images/new_257.jpg: 608x608 1 without_mask, 47.2ms\n",
            "image 145/160 /content/drive/MyDrive/CVPR_assignment/dataset/test/images/new_261.jpg: 608x608 1 without_mask, 45.9ms\n",
            "image 146/160 /content/drive/MyDrive/CVPR_assignment/dataset/test/images/new_267.jpg: 352x608 6 with_masks, 31.0ms\n",
            "image 147/160 /content/drive/MyDrive/CVPR_assignment/dataset/test/images/new_29.jpg: 608x416 1 with_mask, 31.4ms\n",
            "image 148/160 /content/drive/MyDrive/CVPR_assignment/dataset/test/images/new_3.jpg: 608x480 1 with_mask, 34.7ms\n",
            "image 149/160 /content/drive/MyDrive/CVPR_assignment/dataset/test/images/new_34.jpg: 416x608 1 with_mask, 33.3ms\n",
            "image 150/160 /content/drive/MyDrive/CVPR_assignment/dataset/test/images/new_37.jpg: 608x416 1 with_mask, 32.8ms\n",
            "image 151/160 /content/drive/MyDrive/CVPR_assignment/dataset/test/images/new_44.jpg: 608x416 1 with_mask, 30.7ms\n",
            "image 152/160 /content/drive/MyDrive/CVPR_assignment/dataset/test/images/new_5.jpg: 416x608 2 with_masks, 5 without_masks, 31.8ms\n",
            "image 153/160 /content/drive/MyDrive/CVPR_assignment/dataset/test/images/new_62.jpg: 416x608 1 with_mask, 31.2ms\n",
            "image 154/160 /content/drive/MyDrive/CVPR_assignment/dataset/test/images/new_67.jpg: 608x608 1 without_mask, 47.1ms\n",
            "image 155/160 /content/drive/MyDrive/CVPR_assignment/dataset/test/images/new_73.jpg: 608x608 1 without_mask, 45.8ms\n",
            "image 156/160 /content/drive/MyDrive/CVPR_assignment/dataset/test/images/new_83.jpg: 608x608 1 without_mask, 46.1ms\n",
            "image 157/160 /content/drive/MyDrive/CVPR_assignment/dataset/test/images/new_84.jpg: 608x608 1 without_mask, 45.9ms\n",
            "image 158/160 /content/drive/MyDrive/CVPR_assignment/dataset/test/images/new_89.jpg: 608x608 1 without_mask, 45.2ms\n",
            "image 159/160 /content/drive/MyDrive/CVPR_assignment/dataset/test/images/new_90.jpg: 608x608 1 without_mask, 46.1ms\n",
            "image 160/160 /content/drive/MyDrive/CVPR_assignment/dataset/test/images/new_92.jpg: 608x608 1 without_mask, 45.2ms\n",
            "Speed: 2.6ms preprocess, 47.1ms inference, 1.8ms postprocess per image at shape (1, 3, 608, 608)\n",
            "Results saved to \u001b[1mruns/detect/predict2\u001b[0m\n"
          ]
        }
      ]
    }
  ]
}